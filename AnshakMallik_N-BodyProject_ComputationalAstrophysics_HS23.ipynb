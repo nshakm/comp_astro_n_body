{
 "cells": [
  {
   "cell_type": "markdown",
   "id": "fbb69c8a",
   "metadata": {},
   "source": [
    "# N-Body Project \n",
    "## Anshak Mallik <br> Computational Astrophysics HS23"
   ]
  },
  {
   "cell_type": "markdown",
   "id": "086d6fa4",
   "metadata": {},
   "source": [
    "Libraries and modules"
   ]
  },
  {
   "cell_type": "code",
   "execution_count": 1,
   "id": "814c289b",
   "metadata": {},
   "outputs": [],
   "source": [
    "import numpy as np\n",
    "import matplotlib.pyplot as plt\n",
    "import pandas as pd\n",
    "from scipy.optimize import curve_fit"
   ]
  },
  {
   "cell_type": "markdown",
   "id": "21a46427",
   "metadata": {},
   "source": [
    "## Task 1\n",
    "\n",
    "### 1.1 Step 1\n",
    "- Preliminarly, **verify the form of the density function $\\rho(r)$** by inferring it from the particle distrbution and **compare it with the analytical denstiy function described in the original paper by Hernquist** (from 1990 on Astrophysical Journal available on the web). **Use Poissonian error bars** when comparing the numerical density profile with the analytical expected values.\n",
    "\n",
    "- Note that the initial conditions are given in a system of units in which $G=1$. **Assume reasonable units of length and mass** for your calculations (nuits of veloctiy and time follow automatically from the assumption) and **discuss your choice**."
   ]
  },
  {
   "cell_type": "markdown",
   "id": "58cb00be",
   "metadata": {},
   "source": [
    "#### Units for $G=1$\n",
    "\n",
    "We are dealing with a globular cluster with the system of units in which the gravitational constant is $G=1$. Thus, it is important to pick the right set of base units. We essentially need to choose a set of new dimensionless units, such that $G=1$ in the new set of units. Let's assume we have the quantity $x$ which has a scale factor $X_0$. This can be converted into an equivalent dimensionless quantity $x' = x/X_0$.\n",
    "\n",
    "We need to find the appropriate units for the following scale factors: $M_0$ (mass), $R_0$ (length), $T_0$ (time) and $V_0$ (velocity). We will also consider $A_0$ for acceleration.\n",
    "\n",
    "For a globular cluster, the appropriate scaling factors for the mass and length are: <br>\n",
    "$M_0 = 1M_{\\odot} = 1.989 \\cdot 10^{30} \\text{kg}$ <br>\n",
    "$R_0 = 1\\text{pc} = 3.086 \\cdot 10^{16} \\text{m}$\n",
    "\n",
    "Now, let's assume that the following variable denote the corresponding quantities: $m$ (mass), $r$ (length), $t$ (time), $v$ (velocity) and $a$ (acceleration).\n",
    "\n",
    "Starting with the gravitational acceleration we get: <br>\n",
    "$a = G\\frac{m}{r^2} \\implies a'A_0 = G \\cdot m'M_0 \\cdot \\frac{1}{(r'R_0)^2} \\implies a' \\frac{R_0}{T_0^2} = G \\cdot m'M_0 \\cdot \\frac{1}{r'^2 R_0^2} \\implies a' = G' \\frac{m'}{r'^2}$ <br>\n",
    "Here $a'$, $m'$ and $r'$ are all dimensionless quantities. This means, that $G' = \\frac{G M_0 T_0^2}{R_0^3}$ must also be dimensionless. Without loss of generality, let's assume $G'=1$.\n",
    "\n",
    "From this we we can get the following equation for the scale length of time: <br>\n",
    "$T_0 = \\sqrt{ \\frac{R_0^3}{GM_0} } = \\sqrt{ \\frac{1\\text{pc}}{G \\cdot 1M_{\\odot}}} = 4.705 \\cdot 10^{14} \\text{s} = 14.92 \\text{Myr}$\n",
    "\n",
    "Similarly, we know that appropriate units for the velocity would be $\\text{km/s}$. We get the following for the scale factor: <br>\n",
    "$V_0 = \\frac{R_0}{T_0} = \\frac{1\\text{pc}}{14.92\\text{Myr}} = 0.065 \\text{km/s}$.\n",
    "\n",
    "\n"
   ]
  },
  {
   "cell_type": "markdown",
   "id": "e6a1670c",
   "metadata": {},
   "source": [
    "#### Importing data"
   ]
  },
  {
   "cell_type": "code",
   "execution_count": 2,
   "id": "c206037a",
   "metadata": {},
   "outputs": [],
   "source": [
    "filepath = r'data.txt'\n",
    "column_names = ['mass', 'x', 'y', 'z', 'vx', 'vy', 'vz', 'softening', 'potential']\n",
    "data = pd.read_csv(filepath, delimiter='\\t', names=column_names)"
   ]
  },
  {
   "cell_type": "markdown",
   "id": "460543dd",
   "metadata": {},
   "source": [
    "Calculating and storing the distance from the center and velocity of each star in 2 new columns: <br>\n",
    "$r = \\sqrt{x^2 + y^2 + z^2}$ and $v = \\sqrt{v_x^2 + v_y^2 + v_z^2}$"
   ]
  },
  {
   "cell_type": "code",
   "execution_count": 3,
   "id": "5684955a",
   "metadata": {},
   "outputs": [],
   "source": [
    "data['distance'] = np.sqrt(data['x']**2 + data['y']**2 + data['z']**2)\n",
    "data['velocity'] = np.sqrt(data['vx']**2 + data['vy']**2 + data['vz']**2)"
   ]
  },
  {
   "cell_type": "code",
   "execution_count": 4,
   "id": "6b164d50",
   "metadata": {},
   "outputs": [
    {
     "data": {
      "text/html": [
       "<div>\n",
       "<style scoped>\n",
       "    .dataframe tbody tr th:only-of-type {\n",
       "        vertical-align: middle;\n",
       "    }\n",
       "\n",
       "    .dataframe tbody tr th {\n",
       "        vertical-align: top;\n",
       "    }\n",
       "\n",
       "    .dataframe thead th {\n",
       "        text-align: right;\n",
       "    }\n",
       "</style>\n",
       "<table border=\"1\" class=\"dataframe\">\n",
       "  <thead>\n",
       "    <tr style=\"text-align: right;\">\n",
       "      <th></th>\n",
       "      <th>mass</th>\n",
       "      <th>x</th>\n",
       "      <th>y</th>\n",
       "      <th>z</th>\n",
       "      <th>vx</th>\n",
       "      <th>vy</th>\n",
       "      <th>vz</th>\n",
       "      <th>softening</th>\n",
       "      <th>potential</th>\n",
       "      <th>distance</th>\n",
       "      <th>velocity</th>\n",
       "    </tr>\n",
       "  </thead>\n",
       "  <tbody>\n",
       "    <tr>\n",
       "      <th>0</th>\n",
       "      <td>92.4259</td>\n",
       "      <td>-0.003816</td>\n",
       "      <td>-0.079670</td>\n",
       "      <td>-0.019072</td>\n",
       "      <td>3779.6200</td>\n",
       "      <td>354.734</td>\n",
       "      <td>-73.45010</td>\n",
       "      <td>0.1</td>\n",
       "      <td>0.013022</td>\n",
       "      <td>0.082010</td>\n",
       "      <td>3796.940673</td>\n",
       "    </tr>\n",
       "    <tr>\n",
       "      <th>1</th>\n",
       "      <td>92.4259</td>\n",
       "      <td>-0.032298</td>\n",
       "      <td>-0.249461</td>\n",
       "      <td>-0.010890</td>\n",
       "      <td>3250.5900</td>\n",
       "      <td>-674.280</td>\n",
       "      <td>-18.33470</td>\n",
       "      <td>0.1</td>\n",
       "      <td>0.013022</td>\n",
       "      <td>0.251779</td>\n",
       "      <td>3319.838103</td>\n",
       "    </tr>\n",
       "    <tr>\n",
       "      <th>2</th>\n",
       "      <td>92.4259</td>\n",
       "      <td>0.067577</td>\n",
       "      <td>-0.810356</td>\n",
       "      <td>-0.006849</td>\n",
       "      <td>2190.8600</td>\n",
       "      <td>199.053</td>\n",
       "      <td>3.86061</td>\n",
       "      <td>0.1</td>\n",
       "      <td>0.013022</td>\n",
       "      <td>0.813198</td>\n",
       "      <td>2199.887393</td>\n",
       "    </tr>\n",
       "    <tr>\n",
       "      <th>3</th>\n",
       "      <td>92.4259</td>\n",
       "      <td>-0.152755</td>\n",
       "      <td>0.276704</td>\n",
       "      <td>-0.002704</td>\n",
       "      <td>-2695.1400</td>\n",
       "      <td>-1345.020</td>\n",
       "      <td>105.94600</td>\n",
       "      <td>0.1</td>\n",
       "      <td>0.013022</td>\n",
       "      <td>0.316080</td>\n",
       "      <td>3013.981250</td>\n",
       "    </tr>\n",
       "    <tr>\n",
       "      <th>4</th>\n",
       "      <td>92.4259</td>\n",
       "      <td>-0.216623</td>\n",
       "      <td>0.150557</td>\n",
       "      <td>-0.002755</td>\n",
       "      <td>-1811.8900</td>\n",
       "      <td>-2595.570</td>\n",
       "      <td>85.85910</td>\n",
       "      <td>0.1</td>\n",
       "      <td>0.013022</td>\n",
       "      <td>0.263819</td>\n",
       "      <td>3166.591351</td>\n",
       "    </tr>\n",
       "    <tr>\n",
       "      <th>...</th>\n",
       "      <td>...</td>\n",
       "      <td>...</td>\n",
       "      <td>...</td>\n",
       "      <td>...</td>\n",
       "      <td>...</td>\n",
       "      <td>...</td>\n",
       "      <td>...</td>\n",
       "      <td>...</td>\n",
       "      <td>...</td>\n",
       "      <td>...</td>\n",
       "      <td>...</td>\n",
       "    </tr>\n",
       "    <tr>\n",
       "      <th>50005</th>\n",
       "      <td>92.4259</td>\n",
       "      <td>-0.034591</td>\n",
       "      <td>-0.004853</td>\n",
       "      <td>0.038082</td>\n",
       "      <td>2274.8300</td>\n",
       "      <td>4239.630</td>\n",
       "      <td>-225.45900</td>\n",
       "      <td>0.1</td>\n",
       "      <td>0.013022</td>\n",
       "      <td>0.051675</td>\n",
       "      <td>4816.652969</td>\n",
       "    </tr>\n",
       "    <tr>\n",
       "      <th>50006</th>\n",
       "      <td>92.4259</td>\n",
       "      <td>0.100105</td>\n",
       "      <td>-0.006709</td>\n",
       "      <td>-0.025669</td>\n",
       "      <td>-751.0680</td>\n",
       "      <td>-1963.650</td>\n",
       "      <td>113.92200</td>\n",
       "      <td>0.1</td>\n",
       "      <td>0.013022</td>\n",
       "      <td>0.103561</td>\n",
       "      <td>2105.469707</td>\n",
       "    </tr>\n",
       "    <tr>\n",
       "      <th>50007</th>\n",
       "      <td>92.4259</td>\n",
       "      <td>0.045565</td>\n",
       "      <td>-0.075928</td>\n",
       "      <td>0.023182</td>\n",
       "      <td>-782.9830</td>\n",
       "      <td>581.401</td>\n",
       "      <td>608.46500</td>\n",
       "      <td>0.1</td>\n",
       "      <td>0.013022</td>\n",
       "      <td>0.091535</td>\n",
       "      <td>1149.486475</td>\n",
       "    </tr>\n",
       "    <tr>\n",
       "      <th>50008</th>\n",
       "      <td>92.4259</td>\n",
       "      <td>0.273587</td>\n",
       "      <td>0.567563</td>\n",
       "      <td>0.255294</td>\n",
       "      <td>-20.4115</td>\n",
       "      <td>-212.075</td>\n",
       "      <td>-715.19100</td>\n",
       "      <td>0.1</td>\n",
       "      <td>0.013022</td>\n",
       "      <td>0.679818</td>\n",
       "      <td>746.251031</td>\n",
       "    </tr>\n",
       "    <tr>\n",
       "      <th>50009</th>\n",
       "      <td>92.4259</td>\n",
       "      <td>-0.122016</td>\n",
       "      <td>-0.116939</td>\n",
       "      <td>-0.217751</td>\n",
       "      <td>360.5420</td>\n",
       "      <td>113.263</td>\n",
       "      <td>3277.85000</td>\n",
       "      <td>0.1</td>\n",
       "      <td>0.013022</td>\n",
       "      <td>0.275641</td>\n",
       "      <td>3299.563557</td>\n",
       "    </tr>\n",
       "  </tbody>\n",
       "</table>\n",
       "<p>50010 rows × 11 columns</p>\n",
       "</div>"
      ],
      "text/plain": [
       "          mass         x         y         z         vx        vy          vz  \\\n",
       "0      92.4259 -0.003816 -0.079670 -0.019072  3779.6200   354.734   -73.45010   \n",
       "1      92.4259 -0.032298 -0.249461 -0.010890  3250.5900  -674.280   -18.33470   \n",
       "2      92.4259  0.067577 -0.810356 -0.006849  2190.8600   199.053     3.86061   \n",
       "3      92.4259 -0.152755  0.276704 -0.002704 -2695.1400 -1345.020   105.94600   \n",
       "4      92.4259 -0.216623  0.150557 -0.002755 -1811.8900 -2595.570    85.85910   \n",
       "...        ...       ...       ...       ...        ...       ...         ...   \n",
       "50005  92.4259 -0.034591 -0.004853  0.038082  2274.8300  4239.630  -225.45900   \n",
       "50006  92.4259  0.100105 -0.006709 -0.025669  -751.0680 -1963.650   113.92200   \n",
       "50007  92.4259  0.045565 -0.075928  0.023182  -782.9830   581.401   608.46500   \n",
       "50008  92.4259  0.273587  0.567563  0.255294   -20.4115  -212.075  -715.19100   \n",
       "50009  92.4259 -0.122016 -0.116939 -0.217751   360.5420   113.263  3277.85000   \n",
       "\n",
       "       softening  potential  distance     velocity  \n",
       "0            0.1   0.013022  0.082010  3796.940673  \n",
       "1            0.1   0.013022  0.251779  3319.838103  \n",
       "2            0.1   0.013022  0.813198  2199.887393  \n",
       "3            0.1   0.013022  0.316080  3013.981250  \n",
       "4            0.1   0.013022  0.263819  3166.591351  \n",
       "...          ...        ...       ...          ...  \n",
       "50005        0.1   0.013022  0.051675  4816.652969  \n",
       "50006        0.1   0.013022  0.103561  2105.469707  \n",
       "50007        0.1   0.013022  0.091535  1149.486475  \n",
       "50008        0.1   0.013022  0.679818   746.251031  \n",
       "50009        0.1   0.013022  0.275641  3299.563557  \n",
       "\n",
       "[50010 rows x 11 columns]"
      ]
     },
     "execution_count": 4,
     "metadata": {},
     "output_type": "execute_result"
    }
   ],
   "source": [
    "data"
   ]
  },
  {
   "cell_type": "markdown",
   "id": "31bfa402",
   "metadata": {},
   "source": [
    "Plotting the data to look at the what the star cluster looks like."
   ]
  },
  {
   "cell_type": "code",
   "execution_count": 5,
   "id": "575f3ee6",
   "metadata": {
    "scrolled": false
   },
   "outputs": [
    {
     "data": {
      "text/plain": [
       "<mpl_toolkits.mplot3d.art3d.Path3DCollection at 0x1ea5582a5b0>"
      ]
     },
     "execution_count": 5,
     "metadata": {},
     "output_type": "execute_result"
    },
    {
     "data": {
      "image/png": "[encoded data removed]",
      "text/plain": [
       "<Figure size 640x480 with 1 Axes>"
      ]
     },
     "metadata": {},
     "output_type": "display_data"
    }
   ],
   "source": [
    "x = data['x'].to_numpy()\n",
    "y = data['y'].to_numpy()\n",
    "z = data['z'].to_numpy()\n",
    "\n",
    "fig = plt.figure()\n",
    "ax = fig.add_subplot(projection='3d')\n",
    "ax.scatter(x, y, z)"
   ]
  },
  {
   "cell_type": "markdown",
   "id": "d24bfa22",
   "metadata": {},
   "source": [
    "#### Fitting Hernquist profile"
   ]
  },
  {
   "cell_type": "markdown",
   "id": "8f38afa0",
   "metadata": {},
   "source": [
    "**TODO**: _Mention what kind of distribution we expect and why we need to a logarithmic bininng. Also state what an ideal binning number would be and why._"
   ]
  },
  {
   "cell_type": "code",
   "execution_count": 6,
   "id": "f43297bb",
   "metadata": {},
   "outputs": [
    {
     "data": {
      "image/png": "[encoded data removed]",
      "text/plain": [
       "<Figure size 640x480 with 1 Axes>"
      ]
     },
     "metadata": {},
     "output_type": "display_data"
    }
   ],
   "source": [
    "bins = np.logspace(0, 2.875, num=12)\n",
    "# bins\n",
    "\n",
    "plt.figure()\n",
    "plt.title('Star Cluster Distribution')\n",
    "plt.xlabel(r'Distance from center $r$ [pc]')\n",
    "plt.ylabel(r'Number of stars $N_{{stars}}$')\n",
    "hist_data = plt.hist(data['distance'], bins=bins, log=True)"
   ]
  },
  {
   "cell_type": "markdown",
   "id": "c84ea2ba",
   "metadata": {},
   "source": [
    "**TODO**: _What do we get from this distribution? Mention how we can use the count per bin and binning edges for fitting_"
   ]
  },
  {
   "cell_type": "code",
   "execution_count": 7,
   "id": "d3765231",
   "metadata": {},
   "outputs": [
    {
     "data": {
      "text/plain": [
       "array([2.948e+03, 1.777e+03, 1.024e+03, 5.930e+02, 3.050e+02, 1.650e+02,\n",
       "       9.000e+01, 3.700e+01, 2.700e+01, 1.500e+01, 2.000e+00])"
      ]
     },
     "execution_count": 7,
     "metadata": {},
     "output_type": "execute_result"
    }
   ],
   "source": [
    "N_stars = hist_data[0]\n",
    "N_stars"
   ]
  },
  {
   "cell_type": "code",
   "execution_count": 8,
   "id": "d34880cf",
   "metadata": {},
   "outputs": [
    {
     "data": {
      "text/plain": [
       "array([  1.        ,   1.8254235 ,   3.33217094,   6.08262313,\n",
       "        11.10336318,  20.26834004,  36.99830414,  67.53757371,\n",
       "       123.28467394, 225.04674056, 410.80560802, 749.89420933])"
      ]
     },
     "execution_count": 8,
     "metadata": {},
     "output_type": "execute_result"
    }
   ],
   "source": [
    "bin_edges = hist_data[1]\n",
    "r_outer = bin_edges\n",
    "r_outer"
   ]
  },
  {
   "cell_type": "code",
   "execution_count": 9,
   "id": "d7990a26",
   "metadata": {},
   "outputs": [
    {
     "data": {
      "text/plain": [
       "False"
      ]
     },
     "execution_count": 9,
     "metadata": {},
     "output_type": "execute_result"
    }
   ],
   "source": [
    "len(r_outer) == len(N_stars)"
   ]
  },
  {
   "cell_type": "markdown",
   "id": "f7873418",
   "metadata": {},
   "source": [
    "REALISED THAT TAKING THE AVERAGE VALUES BETWEEN 2 BIN EDGES WON'T BE ACCURATE <br>\n",
    "$\\rightarrow$ massively affects how the shell volumes are defined <br>\n",
    "$\\rightarrow$ would impact the density function too greatly"
   ]
  },
  {
   "cell_type": "code",
   "execution_count": 10,
   "id": "f715b980",
   "metadata": {},
   "outputs": [],
   "source": [
    "# r_avg_stars = []\n",
    "# for i in range(len(bin_edges)-1):\n",
    "#     r_avg = (bin_edges[i]+bin_edges[i+1])/2\n",
    "#     r_avg_stars.append(r_avg)\n",
    "\n",
    "# r_avg_stars = np.array(r_stars)\n",
    "# r_avg_stars"
   ]
  },
  {
   "cell_type": "markdown",
   "id": "4ace91c5",
   "metadata": {},
   "source": [
    "Using mean binning values $r_{\\text{avg}}$ as edeges of shells to get shell volumes? NO, using the mean binning values is not a good idea. Instead use outer radius $r_{\\text{out}}$."
   ]
  },
  {
   "cell_type": "markdown",
   "id": "bee2a855",
   "metadata": {},
   "source": [
    "**TODO**: _Include plot of number of stars dependent on radius?_"
   ]
  },
  {
   "cell_type": "code",
   "execution_count": 11,
   "id": "798d5598",
   "metadata": {},
   "outputs": [
    {
     "data": {
      "text/plain": [
       "[<matplotlib.lines.Line2D at 0x1ea55990040>]"
      ]
     },
     "execution_count": 11,
     "metadata": {},
     "output_type": "execute_result"
    },
    {
     "data": {
      "image/png": "[encoded data removed]",
      "text/plain": [
       "<Figure size 640x480 with 1 Axes>"
      ]
     },
     "metadata": {},
     "output_type": "display_data"
    }
   ],
   "source": [
    "plt.figure()\n",
    "plt.xlabel(r'Outer radius $r_{{out}}$ [pc]')\n",
    "plt.ylabel(r'Number of stars $N_{stars}$')\n",
    "plt.loglog(r_outer[1:], N_stars, 'o')"
   ]
  },
  {
   "cell_type": "markdown",
   "id": "8bb02a16",
   "metadata": {},
   "source": [
    "**TODO**: _Keep this in?_ The mass within the volume can be caluclated using the number of stars $N_{\\text{stars}}$ within the volume that is created by that outer radius."
   ]
  },
  {
   "cell_type": "markdown",
   "id": "c1174b1b",
   "metadata": {},
   "source": [
    "Next, we need to get the shell volumes using the outer radii: <br>\n",
    "$V_{\\text{shell}} = \\frac{4\\pi}{3} \\Delta r^3$ <br>\n",
    "Here, $\\Delta r = r_{i+1} - r_{i}$ is the difference between 2 consecutive $r_{\\text{out}}$."
   ]
  },
  {
   "cell_type": "code",
   "execution_count": 12,
   "id": "b17c59e8",
   "metadata": {},
   "outputs": [
    {
     "data": {
      "text/plain": [
       "array([2.12900420e+01, 1.29499302e+02, 7.87695449e+02, 4.79125455e+03,\n",
       "       2.91433958e+04, 1.77268293e+05, 1.07825622e+06, 6.55862623e+06,\n",
       "       3.98936516e+07, 2.42658048e+08, 1.47599746e+09])"
      ]
     },
     "execution_count": 12,
     "metadata": {},
     "output_type": "execute_result"
    }
   ],
   "source": [
    "V_shells = []\n",
    "for i in range(len(r_outer)-1):\n",
    "    \n",
    "    r_in = r_outer[i]\n",
    "    r_out = r_outer[i+1]\n",
    "    \n",
    "    V_shell = 4*np.pi/3 * (r_out**3 - r_in**3)\n",
    "    V_shells.append(V_shell)\n",
    "    \n",
    "V_shells = np.array(V_shells)\n",
    "V_shells"
   ]
  },
  {
   "cell_type": "code",
   "execution_count": 13,
   "id": "08e3799a",
   "metadata": {},
   "outputs": [
    {
     "data": {
      "text/plain": [
       "array([2.12900420e+01, 1.29499302e+02, 7.87695449e+02, 4.79125455e+03,\n",
       "       2.91433958e+04, 1.77268293e+05, 1.07825622e+06, 6.55862623e+06,\n",
       "       3.98936516e+07, 2.42658048e+08, 1.47599746e+09])"
      ]
     },
     "execution_count": 13,
     "metadata": {},
     "output_type": "execute_result"
    }
   ],
   "source": [
    "V_shells = (4/3) * np.pi * (bin_edges[1:]**3 - bin_edges[:-1]**3)\n",
    "V_shells"
   ]
  },
  {
   "cell_type": "markdown",
   "id": "b5557987",
   "metadata": {},
   "source": [
    "Finally, we can get the density of each shell: <br>\n",
    "$\\rho = \\frac{m_{\\text{shell}}}{V_{\\text{shell}}} = \\frac{N_{\\text{stars}}m_{\\text{star}}}{V_{\\text{shell}}}$\n",
    "\n",
    "**TODO**: _Complete sentence_ $\\rightarrow$ We know the number of stars $N_{\\text{stars}}$ for each me\n",
    "\n",
    "**TODO**: _Explain how we get total mass and observed densities_"
   ]
  },
  {
   "cell_type": "code",
   "execution_count": 14,
   "id": "724c29f7",
   "metadata": {},
   "outputs": [
    {
     "name": "stdout",
     "output_type": "stream",
     "text": [
      "The total mass of all stars is M = 4.62e+06 M_Sol!\n"
     ]
    }
   ],
   "source": [
    "star_mass = data['mass'].values[0]\n",
    "rho_obs = N_stars*star_mass / V_shells\n",
    "\n",
    "len(N_stars)\n",
    "len(V_shells)\n",
    "total_mass = np.sum(data['mass'].to_numpy())\n",
    "print('The total mass of all stars is M = {:.2e} M_Sol!'.format(total_mass))"
   ]
  },
  {
   "cell_type": "code",
   "execution_count": 45,
   "id": "28fbf3e5",
   "metadata": {},
   "outputs": [],
   "source": [
    "def log_Hernquist_profile(r, a):\n",
    "    log_rho = np.log10(total_mass/(2*np.pi)) + np.log10(a) - np.log10(r) - 3*np.log10(r+a)\n",
    "    return log_rho\n",
    "\n",
    "# for i in range(len(a0)):\n",
    "    \n",
    "#     popt, pcov = curve_fit(log_Hernquist_profile, r_outer[1:], (rho_obs), maxfev=1500)\n",
    "#     a_fit = popt[0]\n",
    "#     a_fit_dev = np.sqrt(pcov[0,0])\n",
    "    \n",
    "#     print('a0 = {:.2f} -> a = {:.3f} +/- {:.3f} -> relative error: {:.3f}'.format(a0[i], a_fit, a_fit_dev, a_fit_dev/a_fit))"
   ]
  },
  {
   "cell_type": "markdown",
   "id": "3972f86f",
   "metadata": {},
   "source": [
    "**TODO**: _Mention Hernquist profile and how we will fit it. Don't think we need the logarithmically simplified version_"
   ]
  },
  {
   "cell_type": "code",
   "execution_count": 46,
   "id": "c6a940f9",
   "metadata": {},
   "outputs": [],
   "source": [
    "#Function that defines the Hernquist density profile\n",
    "def Hernquist_profile(r, a):\n",
    "    rho = total_mass/(2*np.pi) * (a/r) * (1/(r+a)**3)\n",
    "    return rho\n",
    "\n",
    "# a0 = np.linspace(0, 1, 101)\n",
    "# for i in range(len(a0)):\n",
    "\n",
    "#     popt, pcov = curve_fit(Hernquist_profile, r_outer[1:], rho_obs, p0=(a0[i]))\n",
    "#     a_fit = popt[0]\n",
    "#     a_fit_dev = np.sqrt(pcov[0,0])\n",
    "    \n",
    "#     print('a0 = {:.2f} -> a = {:.3f} +/- {:.3f} -> relative error: {:.3f}'.format(a0[i], a_fit, a_fit_dev, a_fit_dev/a_fit))\n",
    "    \n",
    "popt, pcov = curve_fit(Hernquist_profile, r_outer[1:], rho_obs, p0=(0.07))\n",
    "a_fit = popt[0]\n",
    "a_fit_dev = np.sqrt(pcov[0,0])"
   ]
  },
  {
   "cell_type": "code",
   "execution_count": 47,
   "id": "4463e51a",
   "metadata": {},
   "outputs": [],
   "source": [
    "# data.describe()"
   ]
  },
  {
   "cell_type": "code",
   "execution_count": 55,
   "id": "edc3b1d1",
   "metadata": {},
   "outputs": [
    {
     "data": {
      "text/plain": [
       "<matplotlib.legend.Legend at 0x1ea57ecddf0>"
      ]
     },
     "execution_count": 55,
     "metadata": {},
     "output_type": "execute_result"
    },
    {
     "data": {
      "image/png": "[encoded data removed]",
      "text/plain": [
       "<Figure size 1500x500 with 2 Axes>"
      ]
     },
     "metadata": {},
     "output_type": "display_data"
    }
   ],
   "source": [
    "fig, ax = plt.subplots(1, 2, figsize=(15,5))\n",
    "\n",
    "ax[0].set_title(r'Radial density profile (logarithmic values)')\n",
    "ax[0].set_xlabel(r'$r$ [pc]')\n",
    "ax[0].set_ylabel(r'$\\ln{(\\rho(r))}$ [$M_{\\odot}$/pc$^3$]')\n",
    "ax[0].plot(r_outer, log_Hernquist_profile(r_outer, a_fit), color='red', lw=3, label=r'Hernquist $\\ln{{(\\rho_H)}}$ ($a = $ {:.3f})'.format(a_fit), zorder=0)\n",
    "ax[0].errorbar(r_outer[1:], np.log10(rho_obs), yerr=np.log10((1/np.sqrt(N_stars))), color='C0', fmt='o', markersize=5, capsize=2, label=r'Observed data $\\ln{(\\rho_{obs})}$', zorder=1)\n",
    "ax[0].legend()\n",
    "\n",
    "ax[1].set_title(r'Radial density profile (logarithmic scale)')\n",
    "ax[1].set_xlabel(r'$r$ [pc]')\n",
    "ax[1].set_ylabel(r'${\\rho(r)}$ [$M_{\\odot}$/pc$^3$]')\n",
    "\n",
    "ax[1].set_xscale('log')\n",
    "ax[1].set_yscale('log')\n",
    "\n",
    "ax[1].plot(r_outer, Hernquist_profile(r_outer, a_fit), color='red', lw=3, label=r'Hernquist $\\rho_H$ ($a = ${:.3f})'.format(a_fit), zorder=0)\n",
    "ax[1].errorbar(r_outer[1:], rho_obs, yerr=1/np.sqrt(N_stars), color='C0', fmt='o', markersize=5, capsize=2, label=r'Observed data $\\rho_{obs}$', zorder=1)\n",
    "ax[1].legend()\n"
   ]
  },
  {
   "cell_type": "code",
   "execution_count": 44,
   "id": "9967f8f0",
   "metadata": {},
   "outputs": [],
   "source": [
    "np.log?"
   ]
  },
  {
   "cell_type": "markdown",
   "id": "ac8adeb0",
   "metadata": {},
   "source": [
    "Using obtained scale length, we can figure out what the half-mass radius should be:\n",
    "$r_{\\text{hm}} = (1 + \\sqrt{2})a$"
   ]
  },
  {
   "cell_type": "code",
   "execution_count": 56,
   "id": "fb8ecff2",
   "metadata": {},
   "outputs": [
    {
     "name": "stdout",
     "output_type": "stream",
     "text": [
      "The half-mass radius of the star cluster according to the fit lies at r_hm_fit = 0.7430 pc\n"
     ]
    }
   ],
   "source": [
    "r_hm_fit = (1+np.sqrt(2))*a_fit\n",
    "print('The half-mass radius of the star cluster according to the fit lies at r_hm_fit = {:.4f} pc'.format(r_hm_fit))"
   ]
  },
  {
   "cell_type": "markdown",
   "id": "480715b8",
   "metadata": {},
   "source": [
    "**TODO**: _Sanity check to see if this value for half-mass radius is correct. Reorder stars in order of increasing distance. Since all stars have the same mass, we can simply assume that the half-mass radius will be around the star which lies in the middle of the newly ordered dataset._"
   ]
  },
  {
   "cell_type": "code",
   "execution_count": 279,
   "id": "4cfba000",
   "metadata": {},
   "outputs": [
    {
     "name": "stdout",
     "output_type": "stream",
     "text": [
      "The half-mass radius of the star cluster according to the data lies at r_hm = 0.1887 pc\n"
     ]
    }
   ],
   "source": [
    "#TODO: check how many stars/mass within half-mass radius\n",
    "np.sort(data['distance'])\n",
    "dist_ind = np.argsort(data['distance'])\n",
    "\n",
    "sort_dist = data['distance'][dist_ind].to_numpy()\n",
    "# sort_dist == np.sort(data['distance'])\n",
    "r_hm = sort_dist[int(len(data['distance'])/2)]\n",
    "print('The half-mass radius of the star cluster according to the data lies at r_hm = {:.4f} pc'.format(r_hm))"
   ]
  },
  {
   "cell_type": "markdown",
   "id": "6084de58",
   "metadata": {},
   "source": [
    "Seems that my calculation of $r_{\\text{hm,fit}}$ is quite far from what it should be. This might imply that my $a_{\\text{fit} = 0.308}$ is wrong. But looking at the plots, this value looks fits the data pretty well. Only visually so far, actual statistical tests still need to be done to see how good of a fit this is."
   ]
  },
  {
   "cell_type": "code",
   "execution_count": 280,
   "id": "326a9e8e",
   "metadata": {
    "scrolled": false
   },
   "outputs": [],
   "source": [
    "# fig, ax = plt.subplots(2, 2, figsize=(16,12))\n",
    "\n",
    "# #[0,0]\n",
    "# ax[0,0].set_title(r'$\\ln{(\\rho)}$ with $\\ln{(\\Delta \\rho)}$')\n",
    "# ax[0,0].set_xlabel(r'$r$ [pc]')\n",
    "# ax[0,0].set_ylabel(r'$\\ln{\\rho}$ [$M_{\\odot}$/pc$^3$]')\n",
    "\n",
    "# ax[0,0].plot(r_outer, log_Hernquist_profile(r_outer, a_fit), zorder=0, color='red')\n",
    "# # ax[0,0].errorbar(r_outer[1:], np.log(rho_obs), yerr=(1/np.sqrt(np.log(N_stars))), fmt='o', capsize=2, zorder=1, markersize=5, color='C0', label=r'$\\Delta \\rho \\sim (\\ln{N_S})^{-0.5}$')\n",
    "# ax[0,0].errorbar(r_outer[1:], np.log(rho_obs), yerr=np.log((1/np.sqrt(N_stars))), fmt='o', capsize=2, zorder=1, markersize=3, color='C4', label=r'$\\Delta \\rho \\sim \\ln{(N_S^{-0.5})}$')\n",
    "# ax[0,0].legend()\n",
    "\n",
    "\n",
    "# #[0,1]\n",
    "# ax[0,1].set_title(r'$\\ln{(\\rho)}$ with ${\\Delta \\rho}$')\n",
    "# ax[0,1].set_xlabel(r'$r$ [pc]')\n",
    "# # ax[0,1].set_ylabel(r'$\\ln{\\rho}$ [$M_{\\odot}$/pc$^3$]')\n",
    "\n",
    "# ax[0,1].plot(r_outer, log_Hernquist_profile(r_outer, a_fit), zorder=0, color='red')\n",
    "# ax[0,1].errorbar(r_outer[1:], np.log(rho_obs), yerr=((1/np.sqrt(N_stars))), fmt='o', capsize=2, zorder=1, markersize=5, color='C0', label=r'$\\Delta \\rho \\sim {(N_S^{-1/2})}$')\n",
    "# ax[0,1].legend()\n",
    "\n",
    "\n",
    "\n",
    "\n",
    "# #[1,0]\n",
    "# ax[1,0].set_title(r'$\\rho$ with $\\ln{(\\Delta \\rho)}$')\n",
    "# ax[1,0].set_xlabel(r'$r$ [pc]')\n",
    "# ax[1,0].set_ylabel(r'${\\rho}$ [$M_{\\odot}$/pc$^3$]')\n",
    "\n",
    "# ax[1,0].set_xscale('log')\n",
    "# ax[1,0].set_yscale('log')\n",
    "\n",
    "# ax[1,0].plot(r_outer, Hernquist_profile(r_outer, a_fit), zorder=0, color='red')\n",
    "# # ax[1,0].errorbar(r_outer[1:], (rho_obs), yerr=(1/np.sqrt(np.log(N_stars))), fmt='o', capsize=2, zorder=1, markersize=5, color='C0', label=r'$\\Delta \\rho \\sim (\\ln{N_S})^{-0.5}$')\n",
    "# ax[1,0].errorbar(r_outer[1:], (rho_obs), yerr=np.log((1/np.sqrt(N_stars))), fmt='o', capsize=2, zorder=1, markersize=3, color='C4', label=r'$\\Delta \\rho \\sim \\ln{(N_S^{-0.5})}$')\n",
    "# ax[1,0].legend()\n",
    "\n",
    "\n",
    "# #[1,1]\n",
    "# ax[1,1].set_title(r'$\\rho$ with $\\Delta \\rho$')\n",
    "# ax[1,1].set_xlabel(r'$r$ [pc]')\n",
    "# # ax[1,1].set_ylabel(r'${\\rho}$ [$M_{\\odot}$/pc$^3$]')\n",
    "\n",
    "# ax[1,1].set_xscale('log')\n",
    "# ax[1,1].set_yscale('log')\n",
    "\n",
    "# ax[1,1].plot(r_outer, Hernquist_profile(r_outer, a_fit), zorder=0, color='red')\n",
    "# ax[1,1].errorbar(r_outer[1:], (rho_obs), yerr=((1/np.sqrt(N_stars))), fmt='o', capsize=2, zorder=1, markersize=5, color='C0', label=r'$\\Delta \\rho \\sim {(N_S^{-1/2})}$')\n",
    "# ax[1,1].legend()"
   ]
  },
  {
   "cell_type": "markdown",
   "id": "9c8b791d",
   "metadata": {},
   "source": [
    "**TODO**: _Explain how good fit is also by using chi squared_"
   ]
  },
  {
   "cell_type": "code",
   "execution_count": 69,
   "id": "ba158808",
   "metadata": {},
   "outputs": [
    {
     "data": {
      "text/plain": [
       "array([  9.45705004,   7.14541358,   4.78876752,   2.43705407,\n",
       "        -0.03326459,  -2.45306693,  -4.86463877,  -7.55896657,\n",
       "        -9.67948365, -12.07270636, -15.89304542])"
      ]
     },
     "execution_count": 69,
     "metadata": {},
     "output_type": "execute_result"
    }
   ],
   "source": [
    "np.log(rho_obs)"
   ]
  },
  {
   "cell_type": "code",
   "execution_count": 249,
   "id": "dc703794",
   "metadata": {},
   "outputs": [
    {
     "data": {
      "text/plain": [
       "[<matplotlib.lines.Line2D at 0x262dabe90d0>]"
      ]
     },
     "execution_count": 249,
     "metadata": {},
     "output_type": "execute_result"
    },
    {
     "data": {
      "image/png": "[encoded data removed]",
      "text/plain": [
       "<Figure size 640x480 with 1 Axes>"
      ]
     },
     "metadata": {},
     "output_type": "display_data"
    }
   ],
   "source": [
    "fig = plt.figure()\n",
    "ax = plt.axes()\n",
    "ax.set_yscale('log')\n",
    "ax.set_xscale('log')\n",
    "ax.errorbar(r_outer[:-1], rho_obs, yerr=1/np.sqrt(N_stars), fmt='o', capsize=5)\n",
    "ax.plot(r_outer, Hernquist_profile(r_outer, a_fit))"
   ]
  },
  {
   "cell_type": "markdown",
   "id": "c5e4a3c4",
   "metadata": {},
   "source": [
    "**Guesses for the half-mass radius and scale length**"
   ]
  },
  {
   "cell_type": "markdown",
   "id": "e3e5d22c",
   "metadata": {},
   "source": [
    "Verifying the Hernquist profile: $\\rho(r) = \\frac{M_{\\text{tot}}}{2\\pi} \\frac{a}{r} \\frac{1}{(r+a)^3}$ <br>\n",
    "Here, $M_{\\text{tot}}$ is the total mass and $a$ is the scale length. \n",
    "\n",
    "The Hernquist paper also defines the cumulative mass distribution corresponding to the Hernquist density profile as: $M(r) = M_{\\text{tot}} \\frac{r^2}{(r+a)^2}$. This means, that at $r=a$ the cumulative mass distribution is a quarter of the total mass: $M(a) = M_{\\text{tot}}/4$. From this it follows, that the half-mass radius $R_{\\text{hm}}$ and scale length relate in the following way: $R_{\\text{hm}} = (1 + \\sqrt{2})a$."
   ]
  },
  {
   "cell_type": "code",
   "execution_count": 246,
   "id": "663c9cf8",
   "metadata": {},
   "outputs": [
    {
     "name": "stdout",
     "output_type": "stream",
     "text": [
      "The total mass of all stars is M = 4.62e+06 M_Sol!\n"
     ]
    }
   ],
   "source": [
    "#Total mass of all stars\n",
    "total_mass = np.sum(data['mass'].to_numpy())\n",
    "print('The total mass of all stars is M = {:.2e} M_Sol!'.format(total_mass))"
   ]
  },
  {
   "cell_type": "markdown",
   "id": "7ab5bd2a",
   "metadata": {},
   "source": [
    "To get the half-mass radius $R_{\\text{hm}}$, we can do the following steps:\n",
    "- Get indices of stars that would sort them by the distance in ascending order (np.argsort)\n",
    "- Sort the stars by their mass and distance using the indices\n",
    "- Create array with the cumulative sum of all star mass-es (np.cumsum)\n",
    "- Set up a condition to get the index where the half-mass is reached\n",
    "- Get the half-mass radius $R_{\\text{hm}}$ using that index"
   ]
  },
  {
   "cell_type": "code",
   "execution_count": 276,
   "id": "9c2d1bb6",
   "metadata": {},
   "outputs": [
    {
     "data": {
      "text/plain": [
       "0.18874902972839355"
      ]
     },
     "execution_count": 276,
     "metadata": {},
     "output_type": "execute_result"
    }
   ],
   "source": []
  },
  {
   "cell_type": "code",
   "execution_count": 238,
   "id": "da6ca4c8",
   "metadata": {
    "scrolled": true
   },
   "outputs": [
    {
     "name": "stdout",
     "output_type": "stream",
     "text": [
      "The half-mass radius of the star cluster lies at R_hm = 6.9372 pc!\n"
     ]
    }
   ],
   "source": [
    "#Getting the indices to sort stars by increasing distances\n",
    "sort_dist_ind = np.argsort(data['distance'])\n",
    "\n",
    "#Sort the star masses and distances using these indices\n",
    "sort_mass = data['mass'][sort_dist_ind]\n",
    "sort_dist = data['distance'][sort_dist_ind]\n",
    "\n",
    "#Cumulative sum of mass of whole system\n",
    "cum_mass = np.cumsum(sort_mass)\n",
    "\n",
    "#Find index for half-mass and obtain half-mass radius from it\n",
    "half_mass_ind = np.argmax(cum_mass >= total_mass/2)\n",
    "half_mass_rad = sort_dist[half_mass_ind]\n",
    "print('The half-mass radius of the star cluster lies at R_hm = {:.4f} pc!'.format(half_mass_rad))"
   ]
  },
  {
   "cell_type": "markdown",
   "id": "0094a01c",
   "metadata": {},
   "source": [
    "Using the half-mass radius $R_{\\text{hm}}$, we can make a guess for the scale length:"
   ]
  },
  {
   "cell_type": "code",
   "execution_count": 11,
   "id": "9b3a3dc9",
   "metadata": {
    "scrolled": true
   },
   "outputs": [
    {
     "name": "stdout",
     "output_type": "stream",
     "text": [
      "The scale length based off the dataset is a_data = 2.87\n"
     ]
    }
   ],
   "source": [
    "#Scale length based on dataset\n",
    "a_data = 1/(1+np.sqrt(2)) * half_mass_rad\n",
    "print('The scale length based off the dataset is a_data = {:.2f}'.format(a_data))"
   ]
  },
  {
   "cell_type": "code",
   "execution_count": 12,
   "id": "40f12e7a",
   "metadata": {},
   "outputs": [],
   "source": [
    "# distances = data['distance']\n",
    "# # radial_distances\n",
    "\n",
    "# bins = np.linspace(np.min(distances), np.max(distances), 30)\n",
    "# # bins\n",
    "# # np.min(radial_distances)\n",
    "\n",
    "# hist, _ = np.histogram(distances, bins=bins)\n",
    "# # hist\n",
    "# # bin_edges == bins\n",
    "\n",
    "# shell_inner_rads = bins[:-1]\n",
    "# shell_outer_rads = bins[1:]\n",
    "# shell_volumes = (4*np.pi/3) * (shell_outer_rads**3 - shell_inner_rads**3)\n",
    "# # shell_volumes\n",
    "\n"
   ]
  },
  {
   "cell_type": "markdown",
   "id": "c60aceff",
   "metadata": {},
   "source": [
    "Now, to get the observed density profile we can go through the following steps:\n",
    "- Define the radii we want to work. Their differences will be the shell widths.\n",
    "- The following steps will iterate through each shell and append the density value obtained to an empy density list.\n",
    "- To determine which stars are in a specific shell, we can set up a condition and get their specific indices (np.where).\n",
    "- The total mass in that shell can then be obtained (np.sum)\n",
    "- Once the total mass is obtained, the shell density can be calculated using the shell volume."
   ]
  },
  {
   "cell_type": "code",
   "execution_count": 13,
   "id": "7b82ea04",
   "metadata": {},
   "outputs": [],
   "source": [
    "# %%time\n",
    "# #Defining the radii we want to use to determine the shells\n",
    "# distances = data['distance']\n",
    "# bins = np.linspace(np.min(distances), np.max(distances), 10)\n",
    "\n",
    "# #Initializing empty list of density\n",
    "# shell_densities = []\n",
    "\n",
    "# #Iterating over the shells\n",
    "# for i in range(len(distances)-1):\n",
    "    \n",
    "#     #Inner radius\n",
    "#     shell_inner_rad = distances[i]\n",
    "    \n",
    "#     #Outer radius\n",
    "#     shell_outer_rad = distances[i+1]\n",
    "    \n",
    "#     #Indices of stars, which are in shell\n",
    "#     stars_in_shell_ind = np.where((distances >= shell_inner_rad) & (distances <= shell_outer_rad))[0]\n",
    "    \n",
    "#     #Total mass of stars in shell\n",
    "#     shell_tot_mass = np.sum(data['mass'][stars_in_shell_ind])\n",
    "    \n",
    "#     #Volume of shell\n",
    "#     shell_volume = (4*np.pi/3) * (shell_outer_rad**3 - shell_inner_rad**3)\n",
    "    \n",
    "#     #Calculate shell density and append to initialized list\n",
    "#     shell_density = shell_tot_mass / shell_volume\n",
    "#     shell_densities.append(shell_density)"
   ]
  },
  {
   "cell_type": "markdown",
   "id": "293f03c2",
   "metadata": {},
   "source": [
    "The above method is more general but takes too long. Instead, we could take advantage of the fact that all stars have the same mass and use a histogram based approach to get the shell densities:\n",
    "- Create a historgram with a certain amount of bins. \n",
    "- Each bin corresponds to a shell and will have a will have a certain frequency, which corresponds to the number of stars in that shell.\n",
    "- The total mass of the shell can then be easily obtained.\n",
    "- The bin widths can be used to obtain their volumes.\n",
    "- Finally, the shell density can be calculated using the total mass in the shell and volume of the shell."
   ]
  },
  {
   "cell_type": "code",
   "execution_count": 14,
   "id": "a601d270",
   "metadata": {},
   "outputs": [
    {
     "name": "stdout",
     "output_type": "stream",
     "text": [
      "Wall time: 7.05 ms\n"
     ]
    }
   ],
   "source": [
    "%%time\n",
    "#Define shell widths using bins\n",
    "distances = data['distance']\n",
    "bins = np.linspace(np.min(distances), np.max(distances), 50)\n",
    "\n",
    "#Number of stars in shells\n",
    "N_S, _ = np.histogram(distances, bins=bins)\n",
    "\n",
    "#Total mass of stars inside shells\n",
    "star_mass = data['mass'].values[0]\n",
    "shell_tot_mass = N_S*star_mass\n",
    "\n",
    "#Volume of shells\n",
    "shell_outer_rad = bins[1:]\n",
    "shell_inner_rad = bins[:-1]\n",
    "shell_vol = (4*np.pi/3) * (shell_outer_rad**3 - shell_inner_rad**3)\n",
    "\n",
    "#Density of stars in shells\n",
    "rho_num = shell_tot_mass/shell_vol\n",
    "# rho_num"
   ]
  },
  {
   "cell_type": "markdown",
   "id": "8e56a9d7",
   "metadata": {},
   "source": [
    "We can also create a function for the analytical Hernquist density profile dependent on radius $r$ and scale length $a$. This can be used with the outer radii $r_{\\text{outer}}$ and the guess for the scale length based on the data $a_{\\text{data}}$."
   ]
  },
  {
   "cell_type": "code",
   "execution_count": 24,
   "id": "9a0a6de5",
   "metadata": {},
   "outputs": [],
   "source": [
    "#Function that defines the Hernquist density profile\n",
    "def Hernquist_profile(r, a):\n",
    "    rho = total_mass/(2*np.pi) * (a/r) * (1/(r+a)**3)\n",
    "    return rho"
   ]
  },
  {
   "cell_type": "code",
   "execution_count": 16,
   "id": "6015ea57",
   "metadata": {
    "scrolled": true
   },
   "outputs": [],
   "source": [
    "#Fit of Hernquist profile using inner radii and data-based scale length\n",
    "rho_H = Hernquist_profile(shell_inner_rad, a_data)\n",
    "# rho_H"
   ]
  },
  {
   "cell_type": "markdown",
   "id": "3917c507",
   "metadata": {},
   "source": [
    "Lastly, before we look at the plot and compare the analytical solution to the observed values we need to consider the errors. For this, we will use the Poissonian error, defined as follows: $\\epsilon_P = \\frac{1}{\\sqrt{N_S}} |\\rho_{H} - \\rho_{\\text{num}}|$. $\\rho_H$ and $\\rho_{\\text{num}}$ are the star densities from the Hernquist profile and observed values respectively. $N_S$ is the number of stars per shell.\n",
    "\n"
   ]
  },
  {
   "cell_type": "code",
   "execution_count": 17,
   "id": "6bcb2479",
   "metadata": {},
   "outputs": [
    {
     "name": "stderr",
     "output_type": "stream",
     "text": [
      "C:\\Users\\ansha\\AppData\\Local\\Temp\\ipykernel_19828\\2849040837.py:2: RuntimeWarning: divide by zero encountered in true_divide\n",
      "  e_p = np.abs(rho_H - rho_num)/np.sqrt(N_S)\n"
     ]
    }
   ],
   "source": [
    "#Calculating the Poissonian error (to use as error bars in plot)\n",
    "e_p = np.abs(rho_H - rho_num)/np.sqrt(N_S)\n",
    "# -> divide by 0 error, increase bin size?"
   ]
  },
  {
   "cell_type": "code",
   "execution_count": 18,
   "id": "4d2eb288",
   "metadata": {},
   "outputs": [
    {
     "ename": "NameError",
     "evalue": "name 'e_pos' is not defined",
     "output_type": "error",
     "traceback": [
      "\u001b[1;31m---------------------------------------------------------------------------\u001b[0m",
      "\u001b[1;31mNameError\u001b[0m                                 Traceback (most recent call last)",
      "\u001b[1;32m~\\AppData\\Local\\Temp\\ipykernel_19828\\3520929977.py\u001b[0m in \u001b[0;36m<module>\u001b[1;34m\u001b[0m\n\u001b[1;32m----> 1\u001b[1;33m \u001b[0me_pos\u001b[0m\u001b[1;33m\u001b[0m\u001b[1;33m\u001b[0m\u001b[0m\n\u001b[0m",
      "\u001b[1;31mNameError\u001b[0m: name 'e_pos' is not defined"
     ]
    }
   ],
   "source": [
    "e_pos"
   ]
  },
  {
   "cell_type": "markdown",
   "id": "f9ade8e7",
   "metadata": {},
   "source": [
    "Plot"
   ]
  },
  {
   "cell_type": "code",
   "execution_count": null,
   "id": "e236d43c",
   "metadata": {},
   "outputs": [],
   "source": [
    "a = np.linspace(0.1, 1, 5)\n",
    "for i in range(len(a)):\n",
    "    \n",
    "    rho = Hernquist_profile(shell_inner_rad, a[i])\n",
    "    e_p = np.abs(rho - rho_num)/np.sqrt(N_S)\n",
    "    \n",
    "    fig, ax = plt.subplots()\n",
    "\n",
    "    ax.set_xscale('log')\n",
    "    ax.set_yscale('log')\n",
    "\n",
    "    ax.set_xlabel(r'Radial distance $r$ [UNITS]')\n",
    "    ax.set_ylabel(r'Star density $\\rho(r)$ [UNITS]')\n",
    "\n",
    "    ax.plot(shell_inner_rad, rho, zorder=0, label=r'Hernquist profile ($a$ = {:.2f})'.format(a[i]))\n",
    "    ax.errorbar(shell_inner_rad, rho_num, yerr=e_p, zorder=1, fmt='o', capsize=5, color='green', label='Observed data')\n",
    "\n",
    "    ax.legend()\n",
    "    \n",
    "    \n",
    "#     plt.figure()\n",
    "#     plt.\n",
    "#     plt.plot(shell_outer_rad, rho, label=r'Hernquist with $a$ = {:.2f}'.format{a[i]})\n",
    "#     plt.errorbar(shell_outer_rad, rho_num, yerr=e_p, label='Observed')"
   ]
  },
  {
   "cell_type": "code",
   "execution_count": 260,
   "id": "1b35d1bd",
   "metadata": {},
   "outputs": [
    {
     "ename": "NameError",
     "evalue": "name 'shell_inner_rad' is not defined",
     "output_type": "error",
     "traceback": [
      "\u001b[1;31m---------------------------------------------------------------------------\u001b[0m",
      "\u001b[1;31mNameError\u001b[0m                                 Traceback (most recent call last)",
      "\u001b[1;32m~\\AppData\\Local\\Temp\\ipykernel_27976\\2485581790.py\u001b[0m in \u001b[0;36m<module>\u001b[1;34m\u001b[0m\n\u001b[0;32m      7\u001b[0m \u001b[0max\u001b[0m\u001b[1;33m.\u001b[0m\u001b[0mset_ylabel\u001b[0m\u001b[1;33m(\u001b[0m\u001b[1;34mr'Star density $\\rho(r)$ [UNITS]'\u001b[0m\u001b[1;33m)\u001b[0m\u001b[1;33m\u001b[0m\u001b[1;33m\u001b[0m\u001b[0m\n\u001b[0;32m      8\u001b[0m \u001b[1;33m\u001b[0m\u001b[0m\n\u001b[1;32m----> 9\u001b[1;33m \u001b[0max\u001b[0m\u001b[1;33m.\u001b[0m\u001b[0mplot\u001b[0m\u001b[1;33m(\u001b[0m\u001b[0mshell_inner_rad\u001b[0m\u001b[1;33m,\u001b[0m \u001b[0mrho_H\u001b[0m\u001b[1;33m,\u001b[0m \u001b[0mzorder\u001b[0m\u001b[1;33m=\u001b[0m\u001b[1;36m0\u001b[0m\u001b[1;33m,\u001b[0m \u001b[0mlabel\u001b[0m\u001b[1;33m=\u001b[0m\u001b[1;34mr'Hernquist profile ($a$ = {:.2f})'\u001b[0m\u001b[1;33m.\u001b[0m\u001b[0mformat\u001b[0m\u001b[1;33m(\u001b[0m\u001b[0ma_data\u001b[0m\u001b[1;33m)\u001b[0m\u001b[1;33m)\u001b[0m\u001b[1;33m\u001b[0m\u001b[1;33m\u001b[0m\u001b[0m\n\u001b[0m\u001b[0;32m     10\u001b[0m \u001b[0max\u001b[0m\u001b[1;33m.\u001b[0m\u001b[0merrorbar\u001b[0m\u001b[1;33m(\u001b[0m\u001b[0mshell_inner_rad\u001b[0m\u001b[1;33m,\u001b[0m \u001b[0mrho_num\u001b[0m\u001b[1;33m,\u001b[0m \u001b[0myerr\u001b[0m\u001b[1;33m=\u001b[0m\u001b[0me_p\u001b[0m\u001b[1;33m,\u001b[0m \u001b[0mzorder\u001b[0m\u001b[1;33m=\u001b[0m\u001b[1;36m1\u001b[0m\u001b[1;33m,\u001b[0m \u001b[0mfmt\u001b[0m\u001b[1;33m=\u001b[0m\u001b[1;34m'o'\u001b[0m\u001b[1;33m,\u001b[0m \u001b[0mcapsize\u001b[0m\u001b[1;33m=\u001b[0m\u001b[1;36m5\u001b[0m\u001b[1;33m,\u001b[0m \u001b[0mcolor\u001b[0m\u001b[1;33m=\u001b[0m\u001b[1;34m'green'\u001b[0m\u001b[1;33m,\u001b[0m \u001b[0mlabel\u001b[0m\u001b[1;33m=\u001b[0m\u001b[1;34m'Observed data'\u001b[0m\u001b[1;33m)\u001b[0m\u001b[1;33m\u001b[0m\u001b[1;33m\u001b[0m\u001b[0m\n\u001b[0;32m     11\u001b[0m \u001b[1;33m\u001b[0m\u001b[0m\n",
      "\u001b[1;31mNameError\u001b[0m: name 'shell_inner_rad' is not defined"
     ]
    },
    {
     "data": {
      "image/png": "[encoded data removed]",
      "text/plain": [
       "<Figure size 640x480 with 1 Axes>"
      ]
     },
     "metadata": {},
     "output_type": "display_data"
    }
   ],
   "source": [
    "fig, ax = plt.subplots()\n",
    "\n",
    "ax.set_xscale('log')\n",
    "ax.set_yscale('log')\n",
    "\n",
    "ax.set_xlabel(r'Radial distance $r$ [UNITS]')\n",
    "ax.set_ylabel(r'Star density $\\rho(r)$ [UNITS]')\n",
    "\n",
    "ax.plot(shell_inner_rad, rho_H, zorder=0, label=r'Hernquist profile ($a$ = {:.2f})'.format(a_data))\n",
    "ax.errorbar(shell_inner_rad, rho_num, yerr=e_p, zorder=1, fmt='o', capsize=5, color='green', label='Observed data')\n",
    "\n",
    "ax.legend()"
   ]
  },
  {
   "cell_type": "code",
   "execution_count": null,
   "id": "f86882ca",
   "metadata": {},
   "outputs": [],
   "source": []
  },
  {
   "cell_type": "code",
   "execution_count": null,
   "id": "89aeb584",
   "metadata": {},
   "outputs": [],
   "source": []
  },
  {
   "cell_type": "markdown",
   "id": "4d53a61a",
   "metadata": {},
   "source": [
    "### 1.2 Step 2\n",
    "- **Compute the direct N-Body forces between particles** (note that the array potential[i] is not needed for this purpose). Start by assuming a softening of the order of the mean interparticle separation in the system, then repeat the force calculation by experiment with different values of the softening and discuss your results.\n",
    "- To check the direct force calculation result and its dependence on the softening choice, **compare it with the analytical force expected based on the application of Newton's second theorem for spherical potentials and plot the result** (use the book \"Galactic Dynamics\" by Binney and Tremaine as a main reference for the theoretical notions, in particular sec. 2.2 (most recent version of the book) or 2.1 (1987 version)).\n",
    "- **Compute the relaxation timescale of the numerical model given the number of particles and the physical crossing timescale** (use the half-mass radius $R_{\\text{hm}}$ and the circular velocity computed at the half-mass radius, $v_c = \\sqrt{GM(R_{\\text{hm}})/R_{\\text{hm}}}$. Keeping in mind how the relaxation time formula is derived, **do you expect varying the value of the graviational softening to change the relaxation timescale?** In particular, do you expect it to increase or decrease if the softening is increased aobve the interparticle separation? Can you explain why?"
   ]
  },
  {
   "cell_type": "code",
   "execution_count": null,
   "id": "55b8e000",
   "metadata": {},
   "outputs": [],
   "source": []
  }
 ],
 "metadata": {
  "kernelspec": {
   "display_name": "Python 3 (ipykernel)",
   "language": "python",
   "name": "python3"
  },
  "language_info": {
   "codemirror_mode": {
    "name": "ipython",
    "version": 3
   },
   "file_extension": ".py",
   "mimetype": "text/x-python",
   "name": "python",
   "nbconvert_exporter": "python",
   "pygments_lexer": "ipython3",
   "version": "3.9.13"
  }
 },
 "nbformat": 4,
 "nbformat_minor": 5
}
