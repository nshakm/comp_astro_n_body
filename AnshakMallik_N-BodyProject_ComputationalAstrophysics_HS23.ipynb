{
 "cells": [
  {
   "cell_type": "markdown",
   "id": "fbb69c8a",
   "metadata": {},
   "source": [
    "# N-Body Project \n",
    "## Anshak Mallik <br> Computational Astrophysics HS23"
   ]
  },
  {
   "cell_type": "markdown",
   "id": "086d6fa4",
   "metadata": {},
   "source": [
    "Libraries and modules"
   ]
  },
  {
   "cell_type": "code",
   "execution_count": 1,
   "id": "814c289b",
   "metadata": {},
   "outputs": [],
   "source": [
    "import numpy as np\n",
    "import matplotlib.pyplot as plt\n",
    "import pandas as pd"
   ]
  },
  {
   "cell_type": "markdown",
   "id": "21a46427",
   "metadata": {},
   "source": [
    "## Task 1\n",
    "\n",
    "### 1.1 Step 1\n",
    "- Preliminarly, **verify the form of the density function $\\rho(r)$** by inferring it from the particle distrbution and **compare it with the analytical denstiy function described in the original paper by Hernquist** (from 1990 on Astrophysical Journal available on the web). **Use Poissonian error bars** when comparing the numerical density profile with the analytical expected values.\n",
    "\n",
    "- Note that the initial conditions are given in a system of units in which $G=1$. **Assume reasonable units of length and mass** for your calculations (nuits of veloctiy and time follow automatically from the assumption) and **discuss your choice**."
   ]
  },
  {
   "cell_type": "markdown",
   "id": "edaf826f",
   "metadata": {},
   "source": [
    "Importing the data from data.txt"
   ]
  },
  {
   "cell_type": "code",
   "execution_count": 2,
   "id": "c206037a",
   "metadata": {},
   "outputs": [],
   "source": [
    "filepath = r'data.txt'\n",
    "column_names = ['mass', 'x', 'y', 'z', 'vx', 'vy', 'vz', 'softening', 'potential']\n",
    "data = pd.read_csv(filepath, delimiter='\\t', names=column_names)"
   ]
  },
  {
   "cell_type": "markdown",
   "id": "460543dd",
   "metadata": {},
   "source": [
    "Calculating and storing the distance from the center and velocity of each star in 2 new columns: <br>\n",
    "$r = \\sqrt{x^2 + y^2 + z^2}$ and $v = \\sqrt{v_x^2 + v_y^2 + v_z^2}$"
   ]
  },
  {
   "cell_type": "code",
   "execution_count": 3,
   "id": "5684955a",
   "metadata": {},
   "outputs": [],
   "source": [
    "data['distance'] = np.sqrt(data['x']**2 + data['y']**2 + data['z']**2)\n",
    "data['velocity'] = np.sqrt(data['vx']**2 + data['vy']**2 + data['vz']**2)"
   ]
  },
  {
   "cell_type": "code",
   "execution_count": 56,
   "id": "6b164d50",
   "metadata": {},
   "outputs": [
    {
     "data": {
      "text/html": [
       "<div>\n",
       "<style scoped>\n",
       "    .dataframe tbody tr th:only-of-type {\n",
       "        vertical-align: middle;\n",
       "    }\n",
       "\n",
       "    .dataframe tbody tr th {\n",
       "        vertical-align: top;\n",
       "    }\n",
       "\n",
       "    .dataframe thead th {\n",
       "        text-align: right;\n",
       "    }\n",
       "</style>\n",
       "<table border=\"1\" class=\"dataframe\">\n",
       "  <thead>\n",
       "    <tr style=\"text-align: right;\">\n",
       "      <th></th>\n",
       "      <th>mass</th>\n",
       "      <th>x</th>\n",
       "      <th>y</th>\n",
       "      <th>z</th>\n",
       "      <th>vx</th>\n",
       "      <th>vy</th>\n",
       "      <th>vz</th>\n",
       "      <th>softening</th>\n",
       "      <th>potential</th>\n",
       "      <th>distance</th>\n",
       "      <th>velocity</th>\n",
       "    </tr>\n",
       "  </thead>\n",
       "  <tbody>\n",
       "    <tr>\n",
       "      <th>0</th>\n",
       "      <td>92.4259</td>\n",
       "      <td>-0.003816</td>\n",
       "      <td>-0.079670</td>\n",
       "      <td>-0.019072</td>\n",
       "      <td>3779.6200</td>\n",
       "      <td>354.734</td>\n",
       "      <td>-73.45010</td>\n",
       "      <td>0.1</td>\n",
       "      <td>0.013022</td>\n",
       "      <td>0.082010</td>\n",
       "      <td>3796.940673</td>\n",
       "    </tr>\n",
       "    <tr>\n",
       "      <th>1</th>\n",
       "      <td>92.4259</td>\n",
       "      <td>-0.032298</td>\n",
       "      <td>-0.249461</td>\n",
       "      <td>-0.010890</td>\n",
       "      <td>3250.5900</td>\n",
       "      <td>-674.280</td>\n",
       "      <td>-18.33470</td>\n",
       "      <td>0.1</td>\n",
       "      <td>0.013022</td>\n",
       "      <td>0.251779</td>\n",
       "      <td>3319.838103</td>\n",
       "    </tr>\n",
       "    <tr>\n",
       "      <th>2</th>\n",
       "      <td>92.4259</td>\n",
       "      <td>0.067577</td>\n",
       "      <td>-0.810356</td>\n",
       "      <td>-0.006849</td>\n",
       "      <td>2190.8600</td>\n",
       "      <td>199.053</td>\n",
       "      <td>3.86061</td>\n",
       "      <td>0.1</td>\n",
       "      <td>0.013022</td>\n",
       "      <td>0.813198</td>\n",
       "      <td>2199.887393</td>\n",
       "    </tr>\n",
       "    <tr>\n",
       "      <th>3</th>\n",
       "      <td>92.4259</td>\n",
       "      <td>-0.152755</td>\n",
       "      <td>0.276704</td>\n",
       "      <td>-0.002704</td>\n",
       "      <td>-2695.1400</td>\n",
       "      <td>-1345.020</td>\n",
       "      <td>105.94600</td>\n",
       "      <td>0.1</td>\n",
       "      <td>0.013022</td>\n",
       "      <td>0.316080</td>\n",
       "      <td>3013.981250</td>\n",
       "    </tr>\n",
       "    <tr>\n",
       "      <th>4</th>\n",
       "      <td>92.4259</td>\n",
       "      <td>-0.216623</td>\n",
       "      <td>0.150557</td>\n",
       "      <td>-0.002755</td>\n",
       "      <td>-1811.8900</td>\n",
       "      <td>-2595.570</td>\n",
       "      <td>85.85910</td>\n",
       "      <td>0.1</td>\n",
       "      <td>0.013022</td>\n",
       "      <td>0.263819</td>\n",
       "      <td>3166.591351</td>\n",
       "    </tr>\n",
       "    <tr>\n",
       "      <th>...</th>\n",
       "      <td>...</td>\n",
       "      <td>...</td>\n",
       "      <td>...</td>\n",
       "      <td>...</td>\n",
       "      <td>...</td>\n",
       "      <td>...</td>\n",
       "      <td>...</td>\n",
       "      <td>...</td>\n",
       "      <td>...</td>\n",
       "      <td>...</td>\n",
       "      <td>...</td>\n",
       "    </tr>\n",
       "    <tr>\n",
       "      <th>50005</th>\n",
       "      <td>92.4259</td>\n",
       "      <td>-0.034591</td>\n",
       "      <td>-0.004853</td>\n",
       "      <td>0.038082</td>\n",
       "      <td>2274.8300</td>\n",
       "      <td>4239.630</td>\n",
       "      <td>-225.45900</td>\n",
       "      <td>0.1</td>\n",
       "      <td>0.013022</td>\n",
       "      <td>0.051675</td>\n",
       "      <td>4816.652969</td>\n",
       "    </tr>\n",
       "    <tr>\n",
       "      <th>50006</th>\n",
       "      <td>92.4259</td>\n",
       "      <td>0.100105</td>\n",
       "      <td>-0.006709</td>\n",
       "      <td>-0.025669</td>\n",
       "      <td>-751.0680</td>\n",
       "      <td>-1963.650</td>\n",
       "      <td>113.92200</td>\n",
       "      <td>0.1</td>\n",
       "      <td>0.013022</td>\n",
       "      <td>0.103561</td>\n",
       "      <td>2105.469707</td>\n",
       "    </tr>\n",
       "    <tr>\n",
       "      <th>50007</th>\n",
       "      <td>92.4259</td>\n",
       "      <td>0.045565</td>\n",
       "      <td>-0.075928</td>\n",
       "      <td>0.023182</td>\n",
       "      <td>-782.9830</td>\n",
       "      <td>581.401</td>\n",
       "      <td>608.46500</td>\n",
       "      <td>0.1</td>\n",
       "      <td>0.013022</td>\n",
       "      <td>0.091535</td>\n",
       "      <td>1149.486475</td>\n",
       "    </tr>\n",
       "    <tr>\n",
       "      <th>50008</th>\n",
       "      <td>92.4259</td>\n",
       "      <td>0.273587</td>\n",
       "      <td>0.567563</td>\n",
       "      <td>0.255294</td>\n",
       "      <td>-20.4115</td>\n",
       "      <td>-212.075</td>\n",
       "      <td>-715.19100</td>\n",
       "      <td>0.1</td>\n",
       "      <td>0.013022</td>\n",
       "      <td>0.679818</td>\n",
       "      <td>746.251031</td>\n",
       "    </tr>\n",
       "    <tr>\n",
       "      <th>50009</th>\n",
       "      <td>92.4259</td>\n",
       "      <td>-0.122016</td>\n",
       "      <td>-0.116939</td>\n",
       "      <td>-0.217751</td>\n",
       "      <td>360.5420</td>\n",
       "      <td>113.263</td>\n",
       "      <td>3277.85000</td>\n",
       "      <td>0.1</td>\n",
       "      <td>0.013022</td>\n",
       "      <td>0.275641</td>\n",
       "      <td>3299.563557</td>\n",
       "    </tr>\n",
       "  </tbody>\n",
       "</table>\n",
       "<p>50010 rows × 11 columns</p>\n",
       "</div>"
      ],
      "text/plain": [
       "          mass         x         y         z         vx        vy          vz  \\\n",
       "0      92.4259 -0.003816 -0.079670 -0.019072  3779.6200   354.734   -73.45010   \n",
       "1      92.4259 -0.032298 -0.249461 -0.010890  3250.5900  -674.280   -18.33470   \n",
       "2      92.4259  0.067577 -0.810356 -0.006849  2190.8600   199.053     3.86061   \n",
       "3      92.4259 -0.152755  0.276704 -0.002704 -2695.1400 -1345.020   105.94600   \n",
       "4      92.4259 -0.216623  0.150557 -0.002755 -1811.8900 -2595.570    85.85910   \n",
       "...        ...       ...       ...       ...        ...       ...         ...   \n",
       "50005  92.4259 -0.034591 -0.004853  0.038082  2274.8300  4239.630  -225.45900   \n",
       "50006  92.4259  0.100105 -0.006709 -0.025669  -751.0680 -1963.650   113.92200   \n",
       "50007  92.4259  0.045565 -0.075928  0.023182  -782.9830   581.401   608.46500   \n",
       "50008  92.4259  0.273587  0.567563  0.255294   -20.4115  -212.075  -715.19100   \n",
       "50009  92.4259 -0.122016 -0.116939 -0.217751   360.5420   113.263  3277.85000   \n",
       "\n",
       "       softening  potential  distance     velocity  \n",
       "0            0.1   0.013022  0.082010  3796.940673  \n",
       "1            0.1   0.013022  0.251779  3319.838103  \n",
       "2            0.1   0.013022  0.813198  2199.887393  \n",
       "3            0.1   0.013022  0.316080  3013.981250  \n",
       "4            0.1   0.013022  0.263819  3166.591351  \n",
       "...          ...        ...       ...          ...  \n",
       "50005        0.1   0.013022  0.051675  4816.652969  \n",
       "50006        0.1   0.013022  0.103561  2105.469707  \n",
       "50007        0.1   0.013022  0.091535  1149.486475  \n",
       "50008        0.1   0.013022  0.679818   746.251031  \n",
       "50009        0.1   0.013022  0.275641  3299.563557  \n",
       "\n",
       "[50010 rows x 11 columns]"
      ]
     },
     "execution_count": 56,
     "metadata": {},
     "output_type": "execute_result"
    }
   ],
   "source": [
    "data"
   ]
  },
  {
   "cell_type": "markdown",
   "id": "31bfa402",
   "metadata": {},
   "source": [
    "Plotting the data to look at the what the star cluster looks like."
   ]
  },
  {
   "cell_type": "code",
   "execution_count": 5,
   "id": "575f3ee6",
   "metadata": {
    "scrolled": false
   },
   "outputs": [
    {
     "data": {
      "text/plain": [
       "<mpl_toolkits.mplot3d.art3d.Path3DCollection at 0x216a3b6abb0>"
      ]
     },
     "execution_count": 5,
     "metadata": {},
     "output_type": "execute_result"
    },
    {
     "data": {
      "image/png": "[encoded data removed]",
      "text/plain": [
       "<Figure size 640x480 with 1 Axes>"
      ]
     },
     "metadata": {},
     "output_type": "display_data"
    }
   ],
   "source": [
    "x = data['x'].to_numpy()\n",
    "y = data['y'].to_numpy()\n",
    "z = data['z'].to_numpy()\n",
    "\n",
    "fig = plt.figure()\n",
    "ax = fig.add_subplot(projection='3d')\n",
    "ax.scatter(x, y, z)"
   ]
  },
  {
   "cell_type": "code",
   "execution_count": 6,
   "id": "0131d732",
   "metadata": {},
   "outputs": [],
   "source": [
    "# cluster = plt.figure()\n",
    "# ax = cluster.add_subplot(projection='3d')\n",
    "# ax.scatter(x, y, z)\n",
    "\n",
    "# import plotly.express as px\n",
    "# fig = px.scatter_3d(data, x='x', y='y', z='z', title='3D Scatter Plot', size_max = 1)\n",
    "# fig.update_layout(scene=dict(xaxis_title='X Label', yaxis_title='Y Label', zaxis_title='Z Label'))\n",
    "# fig.show()"
   ]
  },
  {
   "cell_type": "markdown",
   "id": "d24bfa22",
   "metadata": {},
   "source": [
    "Histogram"
   ]
  },
  {
   "cell_type": "code",
   "execution_count": 46,
   "id": "0e0180a1",
   "metadata": {},
   "outputs": [
    {
     "data": {
      "text/plain": [
       "(array([4.9735e+04, 1.5400e+02, 4.4000e+01, 1.9000e+01, 1.3000e+01,\n",
       "        1.2000e+01, 5.0000e+00, 6.0000e+00, 4.0000e+00, 4.0000e+00,\n",
       "        6.0000e+00, 2.0000e+00, 0.0000e+00, 1.0000e+00, 2.0000e+00,\n",
       "        1.0000e+00, 0.0000e+00, 0.0000e+00, 0.0000e+00, 0.0000e+00,\n",
       "        0.0000e+00, 0.0000e+00, 0.0000e+00, 0.0000e+00, 0.0000e+00,\n",
       "        0.0000e+00, 1.0000e+00, 0.0000e+00, 0.0000e+00, 1.0000e+00]),\n",
       " array([3.65604928e-04, 2.41566753e+01, 4.83129851e+01, 7.24692948e+01,\n",
       "        9.66256046e+01, 1.20781914e+02, 1.44938224e+02, 1.69094534e+02,\n",
       "        1.93250844e+02, 2.17407153e+02, 2.41563463e+02, 2.65719773e+02,\n",
       "        2.89876082e+02, 3.14032392e+02, 3.38188702e+02, 3.62345012e+02,\n",
       "        3.86501321e+02, 4.10657631e+02, 4.34813941e+02, 4.58970251e+02,\n",
       "        4.83126560e+02, 5.07282870e+02, 5.31439180e+02, 5.55595490e+02,\n",
       "        5.79751799e+02, 6.03908109e+02, 6.28064419e+02, 6.52220729e+02,\n",
       "        6.76377038e+02, 7.00533348e+02, 7.24689658e+02]),\n",
       " <BarContainer object of 30 artists>)"
      ]
     },
     "execution_count": 46,
     "metadata": {},
     "output_type": "execute_result"
    },
    {
     "data": {
      "image/png": "[encoded data removed]",
      "text/plain": [
       "<Figure size 640x480 with 1 Axes>"
      ]
     },
     "metadata": {},
     "output_type": "display_data"
    }
   ],
   "source": [
    "plt.figure()\n",
    "plt.title('Star Cluster Distribution')\n",
    "plt.xlabel('Distance from center')\n",
    "plt.ylabel('Number of stars')\n",
    "plt.hist(data['distance'], bins=30, log=True)\n",
    "#First output is array of frequencies (y)\n",
    "#Second output is array of bin edges (length = bins+1)"
   ]
  },
  {
   "cell_type": "code",
   "execution_count": 60,
   "id": "78d089eb",
   "metadata": {},
   "outputs": [],
   "source": [
    "plt.hist?"
   ]
  },
  {
   "cell_type": "markdown",
   "id": "b9eaba57",
   "metadata": {},
   "source": [
    "Setting the right units for the $G=1$ case:"
   ]
  },
  {
   "cell_type": "code",
   "execution_count": null,
   "id": "1f311eab",
   "metadata": {},
   "outputs": [],
   "source": []
  },
  {
   "cell_type": "code",
   "execution_count": null,
   "id": "f715b980",
   "metadata": {},
   "outputs": [],
   "source": []
  },
  {
   "cell_type": "markdown",
   "id": "e3e5d22c",
   "metadata": {},
   "source": [
    "Verifying the Hernquist profile: $\\rho(r) = \\frac{M}{2\\pi} \\frac{a}{r} \\frac{1}{(r+a)^3}$ <br>\n",
    "Here, $M$ is the total mass and $a$ is the scale length. \n",
    "\n",
    "The Hernquist paper also defines the cumulative mass distribution corresponding to the Hernquist density profile as: $M(r) = M \\frac{r^2}{(r+a)^2}$. This means, that at $r=a$ the cumulative mass distribution is a quarter of the total mass: $M(a) = M/4$. From this it follows, that the half-mass radius $R_{\\text{hm}}$ and scale length relate in the following way: $R_{\\text{hm}} = (1 + \\sqrt{2})a$."
   ]
  },
  {
   "cell_type": "code",
   "execution_count": 8,
   "id": "663c9cf8",
   "metadata": {},
   "outputs": [
    {
     "name": "stdout",
     "output_type": "stream",
     "text": [
      "The total mass of all stars is M = 4622219 UNITS!\n"
     ]
    }
   ],
   "source": [
    "#Total mass of all stars\n",
    "total_mass = np.sum(data['mass'].to_numpy())\n",
    "print('The total mass of all stars is M = {:.0f} UNITS!'.format(total_mass))"
   ]
  },
  {
   "cell_type": "markdown",
   "id": "7ab5bd2a",
   "metadata": {},
   "source": [
    "To get the half-mass radius $R_{\\text{hm}}$, we can do the following steps:\n",
    "- Get indices of stars that would sort them by the distance in ascending order (np.argsort)\n",
    "- Sort the stars by their mass and distance using the indices\n",
    "- Create array with the cumulative sum of all star mass-es (np.cumsum)\n",
    "- Set up a condition to get the index where the half-mass is reached\n",
    "- Get the half-mass radius $R_{\\text{hm}}$ using that index"
   ]
  },
  {
   "cell_type": "code",
   "execution_count": 27,
   "id": "da6ca4c8",
   "metadata": {
    "scrolled": true
   },
   "outputs": [
    {
     "name": "stdout",
     "output_type": "stream",
     "text": [
      "The half-mass radius of the star cluster lies at R_hm = 6.9372 UNITS!\n"
     ]
    }
   ],
   "source": [
    "#Getting the indices to sort stars by increasing distances\n",
    "sort_dist_ind = np.argsort(data['distance'])\n",
    "\n",
    "#Sort the star masses and distances using these indices\n",
    "sort_mass = data['mass'][sort_dist_ind]\n",
    "sort_dist = data['distance'][sort_dist_ind]\n",
    "\n",
    "#Cumulative sum of mass of whole system\n",
    "cum_mass = np.cumsum(sort_mass)\n",
    "\n",
    "#Find index for half-mass and obtain half-mass radius from it\n",
    "half_mass_ind = np.argmax(cum_mass >= total_mass/2)\n",
    "half_mass_rad = sort_dist[half_mass_ind]\n",
    "print('The half-mass radius of the star cluster lies at R_hm = {:.4f} UNITS!'.format(half_mass_rad))"
   ]
  },
  {
   "cell_type": "markdown",
   "id": "0094a01c",
   "metadata": {},
   "source": [
    "Using the half-mass radius $R_{\\text{hm}}$, we can make a guess for the scale length:"
   ]
  },
  {
   "cell_type": "code",
   "execution_count": 28,
   "id": "9b3a3dc9",
   "metadata": {},
   "outputs": [
    {
     "name": "stdout",
     "output_type": "stream",
     "text": [
      "The scale length based off the dataset is a_data = 2.87\n"
     ]
    }
   ],
   "source": [
    "#Scale length based on dataset\n",
    "a_data = 1/(1+np.sqrt(2)) * half_mass_rad\n",
    "print('The scale length based off the dataset is a_data = {:.2f}'.format(a_data))"
   ]
  },
  {
   "cell_type": "code",
   "execution_count": 50,
   "id": "40f12e7a",
   "metadata": {},
   "outputs": [],
   "source": [
    "# distances = data['distance']\n",
    "# # radial_distances\n",
    "\n",
    "# bins = np.linspace(np.min(distances), np.max(distances), 30)\n",
    "# # bins\n",
    "# # np.min(radial_distances)\n",
    "\n",
    "# hist, _ = np.histogram(distances, bins=bins)\n",
    "# # hist\n",
    "# # bin_edges == bins\n",
    "\n",
    "# shell_inner_rads = bins[:-1]\n",
    "# shell_outer_rads = bins[1:]\n",
    "# shell_volumes = (4*np.pi/3) * (shell_outer_rads**3 - shell_inner_rads**3)\n",
    "# # shell_volumes\n",
    "\n"
   ]
  },
  {
   "cell_type": "markdown",
   "id": "c60aceff",
   "metadata": {},
   "source": [
    "Now, to get the observed density profile we can go through the following steps:\n",
    "- Define the radii we want to work. Their differences will be the shell widths.\n",
    "- The following steps will iterate through each shell and append the density value obtained to an empy density list.\n",
    "- To determine which stars are in a specific shell, we can set up a condition and get their specific indices (np.where).\n",
    "- The total mass in that shell can then be obtained (np.sum)\n",
    "- Once the total mass is obtained, the shell density can be calculated using the shell volume."
   ]
  },
  {
   "cell_type": "code",
   "execution_count": 114,
   "id": "7b82ea04",
   "metadata": {},
   "outputs": [],
   "source": [
    "# %%time\n",
    "# #Defining the radii we want to use to determine the shells\n",
    "# distances = data['distance']\n",
    "# bins = np.linspace(np.min(distances), np.max(distances), 10)\n",
    "\n",
    "# #Initializing empty list of density\n",
    "# shell_densities = []\n",
    "\n",
    "# #Iterating over the shells\n",
    "# for i in range(len(distances)-1):\n",
    "    \n",
    "#     #Inner radius\n",
    "#     shell_inner_rad = distances[i]\n",
    "    \n",
    "#     #Outer radius\n",
    "#     shell_outer_rad = distances[i+1]\n",
    "    \n",
    "#     #Indices of stars, which are in shell\n",
    "#     stars_in_shell_ind = np.where((distances >= shell_inner_rad) & (distances <= shell_outer_rad))[0]\n",
    "    \n",
    "#     #Total mass of stars in shell\n",
    "#     shell_tot_mass = np.sum(data['mass'][stars_in_shell_ind])\n",
    "    \n",
    "#     #Volume of shell\n",
    "#     shell_volume = (4*np.pi/3) * (shell_outer_rad**3 - shell_inner_rad**3)\n",
    "    \n",
    "#     #Calculate shell density and append to initialized list\n",
    "#     shell_density = shell_tot_mass / shell_volume\n",
    "#     shell_densities.append(shell_density)"
   ]
  },
  {
   "cell_type": "markdown",
   "id": "293f03c2",
   "metadata": {},
   "source": [
    "The above method is more general but takes too long. Instead, we could take advantage of the fact that all stars have the same mass and use a histogram based approach to get the shell densities:\n",
    "- Create a historgram with a certain amount of bins. \n",
    "- Each bin corresponds to a shell and will have a will have a certain frequency, which corresponds to the number of stars in that shell.\n",
    "- The total mass of the shell can then be easily obtained.\n",
    "- The bin widths can be used to obtain their volumes.\n",
    "- Finally, the shell density can be calculated using the total mass in the shell and volume of the shell."
   ]
  },
  {
   "cell_type": "code",
   "execution_count": 122,
   "id": "a601d270",
   "metadata": {},
   "outputs": [
    {
     "name": "stdout",
     "output_type": "stream",
     "text": [
      "Wall time: 6.8 ms\n"
     ]
    }
   ],
   "source": [
    "%%time\n",
    "#Define shell widths using bins\n",
    "distances = data['distance']\n",
    "bins = np.linspace(np.min(distances), np.max(distances), 50)\n",
    "\n",
    "#Number of stars in shells\n",
    "N_S, _ = np.histogram(distances, bins=bins)\n",
    "\n",
    "#Total mass of stars inside shells\n",
    "star_mass = data['mass'].values[0]\n",
    "shell_tot_mass = N_S*star_mass\n",
    "\n",
    "#Volume of shells\n",
    "shell_outer_rad = bins[1:]\n",
    "shell_inner_rad = bins[:-1]\n",
    "shell_vol = (4*np.pi/3) * (shell_outer_rad**3 - shell_inner_rad**3)\n",
    "\n",
    "#Density of stars in shells\n",
    "rho_num = shell_tot_mass/shell_vol\n",
    "# rho_num"
   ]
  },
  {
   "cell_type": "markdown",
   "id": "8e56a9d7",
   "metadata": {},
   "source": [
    "We can also create a function for the analytical Hernquist density profile dependent on radius $r$ and scale length $a$. This can be used with the outer radii $r_{\\text{outer}}$ and the guess for the scale length based on the data $a_{\\text{data}}$."
   ]
  },
  {
   "cell_type": "code",
   "execution_count": 123,
   "id": "9a0a6de5",
   "metadata": {},
   "outputs": [],
   "source": [
    "#Function that defines the Hernquist density profile\n",
    "def Hernquist_profile(r, a):\n",
    "    rho = total_mass/(2*np.pi) * (a/r) * (1/(r+a)**3)\n",
    "    return rho"
   ]
  },
  {
   "cell_type": "code",
   "execution_count": 138,
   "id": "6015ea57",
   "metadata": {
    "scrolled": true
   },
   "outputs": [],
   "source": [
    "#Fit of Hernquist profile using outer radii and data-based scale length\n",
    "rho_H = Hernquist_profile(shell_outer_rad, a_data)\n",
    "# rho_H"
   ]
  },
  {
   "cell_type": "markdown",
   "id": "3917c507",
   "metadata": {},
   "source": [
    "Lastly, before we look at the plot and compare the analytical solution to the observed values we need to consider the errors. For this, we will use the Poissonian error, defined as follows: $\\epsilon_P = \\frac{1}{\\sqrt{N_S}} |\\rho_{H} - \\rho_{\\text{num}}|$. $\\rho_H$ and $\\rho_{\\text{num}}$ are the star densities from the Hernquist profile and observed values respectively. $N_S$ is the number of stars per shell.\n",
    "\n"
   ]
  },
  {
   "cell_type": "code",
   "execution_count": 125,
   "id": "6bcb2479",
   "metadata": {},
   "outputs": [
    {
     "name": "stderr",
     "output_type": "stream",
     "text": [
      "C:\\Users\\ansha\\AppData\\Local\\Temp\\ipykernel_412\\431833270.py:2: RuntimeWarning: divide by zero encountered in true_divide\n",
      "  e_pos = np.abs(rho_H - rho_num)/np.sqrt(N_S)\n"
     ]
    }
   ],
   "source": [
    "#Calculating the Poissonian error (to use as error bars in plot)\n",
    "e_pos = np.abs(rho_H - rho_num)/np.sqrt(N_S)\n",
    "# -> divide by 0 error, increase bin size?"
   ]
  },
  {
   "cell_type": "code",
   "execution_count": 126,
   "id": "4d2eb288",
   "metadata": {},
   "outputs": [
    {
     "data": {
      "text/plain": [
       "array([1.40153529e+00, 1.17724176e-01, 4.50953733e-02, 2.21981837e-02,\n",
       "       1.39777181e-02, 8.68435945e-03, 4.93270336e-03, 3.68704358e-03,\n",
       "       2.50157269e-03, 1.50968201e-03, 1.99552870e-03, 9.80884308e-04,\n",
       "       7.10724694e-04, 6.15524702e-04, 8.28883096e-04, 3.06179811e-04,\n",
       "                  inf, 1.48199395e-04, 3.22197776e-04, 2.62270871e-04,\n",
       "                  inf,            inf, 1.49460747e-04, 8.60941332e-05,\n",
       "       1.06724291e-04,            inf,            inf,            inf,\n",
       "                  inf,            inf,            inf,            inf,\n",
       "                  inf,            inf,            inf,            inf,\n",
       "                  inf,            inf,            inf,            inf,\n",
       "                  inf,            inf,            inf, 1.04318325e-05,\n",
       "                  inf,            inf,            inf,            inf,\n",
       "       6.60728049e-06])"
      ]
     },
     "execution_count": 126,
     "metadata": {},
     "output_type": "execute_result"
    }
   ],
   "source": [
    "e_pos"
   ]
  },
  {
   "cell_type": "markdown",
   "id": "f9ade8e7",
   "metadata": {},
   "source": [
    "Plot"
   ]
  },
  {
   "cell_type": "code",
   "execution_count": 139,
   "id": "1b35d1bd",
   "metadata": {},
   "outputs": [
    {
     "data": {
      "text/plain": [
       "<matplotlib.legend.Legend at 0x216acf66760>"
      ]
     },
     "execution_count": 139,
     "metadata": {},
     "output_type": "execute_result"
    },
    {
     "data": {
      "image/png": "[encoded data removed]",
      "text/plain": [
       "<Figure size 640x480 with 1 Axes>"
      ]
     },
     "metadata": {},
     "output_type": "display_data"
    }
   ],
   "source": [
    "fig, ax = plt.subplots()\n",
    "\n",
    "ax.set_xscale('log')\n",
    "ax.set_yscale('log')\n",
    "\n",
    "ax.set_xlabel(r'Radial distance $r$ [UNITS]')\n",
    "ax.set_ylabel(r'Star density $\\rho(r)$ [UNITS]')\n",
    "\n",
    "ax.plot(shell_outer_rad, rho_H, zorder=0, label=r'Hernquist profile ($a$ = {:.2f})'.format(a_data))\n",
    "ax.errorbar(shell_outer_rad, rho_num, yerr=e_pos, zorder=1, fmt='o', capsize=5, color='green', label='Observed data')\n",
    "\n",
    "ax.legend()"
   ]
  },
  {
   "cell_type": "code",
   "execution_count": null,
   "id": "89aeb584",
   "metadata": {},
   "outputs": [],
   "source": []
  },
  {
   "cell_type": "markdown",
   "id": "4d53a61a",
   "metadata": {},
   "source": [
    "### 1.2 Step 2\n",
    "- **Compute the direct N-Body forces between particles** (note that the array potential[i] is not needed for this purpose). Start by assuming a softening of the order of the mean interparticle separation in the system, then repeat the force calculation by experiment with different values of the softening and discuss your results.\n",
    "- To check the direct force calculation result and its dependence on the softening choice, **compare it with the analytical force expected based on the application of Newton's second theorem for spherical potentials and plot the result** (use the book \"Galactic Dynamics\" by Binney and Tremaine as a main reference for the theoretical notions, in particular sec. 2.2 (most recent version of the book) or 2.1 (1987 version)).\n",
    "- **Compute the relaxation timescale of the numerical model given the number of particles and the physical crossing timescale** (use the half-mass radius $R_{\\text{hm}}$ and the circular velocity computed at the half-mass radius, $v_c = \\sqrt{GM(R_{\\text{hm}})/R_{\\text{hm}}}$. Keeping in mind how the relaxation time formula is derived, **do you expect varying the value of the graviational softening to change the relaxation timescale?** In particular, do you expect it to increase or decrease if the softening is increased aobve the interparticle separation? Can you explain why?"
   ]
  },
  {
   "cell_type": "code",
   "execution_count": null,
   "id": "55b8e000",
   "metadata": {},
   "outputs": [],
   "source": []
  }
 ],
 "metadata": {
  "kernelspec": {
   "display_name": "Python 3 (ipykernel)",
   "language": "python",
   "name": "python3"
  },
  "language_info": {
   "codemirror_mode": {
    "name": "ipython",
    "version": 3
   },
   "file_extension": ".py",
   "mimetype": "text/x-python",
   "name": "python",
   "nbconvert_exporter": "python",
   "pygments_lexer": "ipython3",
   "version": "3.9.13"
  }
 },
 "nbformat": 4,
 "nbformat_minor": 5
}
